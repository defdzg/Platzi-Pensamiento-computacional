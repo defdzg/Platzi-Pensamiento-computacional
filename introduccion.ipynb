{
 "cells": [
  {
   "cell_type": "code",
   "execution_count": null,
   "metadata": {},
   "outputs": [],
   "source": [
    "# Declaración de una función\r\n",
    "# Las funciones pueden ser utilizadas como abstracciones para compartir el código\r\n",
    "# Y se puede descomponer las piezas del código\r\n",
    "def <nombre> (<parametros>): # Inician con el keyword def\r\n",
    "    <cuerpo> # Utiliza identación\r\n",
    "    return <expresion>\r\n"
   ]
  },
  {
   "cell_type": "code",
   "execution_count": null,
   "metadata": {},
   "outputs": [],
   "source": [
    "def nombre_completo(nombre, apellido, inverso=False):\r\n",
    "    if inverso:\r\n",
    "        return f'{apellido} {nombre}'\r\n",
    "    else:\r\n",
    "        return f'{nombre} {apellido}'"
   ]
  },
  {
   "cell_type": "code",
   "execution_count": 11,
   "metadata": {},
   "outputs": [
    {
     "data": {
      "text/plain": "'Daniel Fernández'"
     },
     "execution_count": 11,
     "metadata": {},
     "output_type": "execute_result"
    }
   ],
   "source": [
    "nombre_completo('Daniel','Fernández')"
   ]
  },
  {
   "cell_type": "code",
   "execution_count": 12,
   "metadata": {},
   "outputs": [
    {
     "data": {
      "text/plain": "'Fernández Daniel'"
     },
     "execution_count": 12,
     "metadata": {},
     "output_type": "execute_result"
    }
   ],
   "source": [
    "nombre_completo('Daniel','Fernández', inverso=True)"
   ]
  },
  {
   "cell_type": "code",
   "execution_count": 13,
   "metadata": {},
   "outputs": [
    {
     "data": {
      "text/plain": "'Daniel Fernández'"
     },
     "execution_count": 13,
     "metadata": {},
     "output_type": "execute_result"
    }
   ],
   "source": [
    "nombre_completo(apellido='Fernández', nombre='Daniel')"
   ]
  },
  {
   "cell_type": "code",
   "execution_count": null,
   "metadata": {},
   "outputs": [],
   "source": [
    "# Docstring\r\n",
    "\"\"\" La documentación de un código en Python se realiza\r\n",
    "a través de un texto dentro de tripe comillas \"\"\"\r\n",
    "\r\n",
    "\"\"\" Existen 3 partes importante que debemos considerar en este Docstring:\r\n",
    "\r\n",
    "1. Da una descripción clara y concisa de la función y para qué sirve\r\n",
    "2. Definir que significan los parámetros, su nombre y su tipo.\r\n",
    "3. Definir lo que se obteniene como resultado del programa \"\"\"\r\n",
    "\r\n"
   ]
  }
 ],
 "metadata": {
  "kernelspec": {
   "display_name": "Python 3.9.2 64-bit",
   "metadata": {
    "interpreter": {
     "hash": "4840353e0553424ef66f8cc0107903e65bbe941cf7045f7d7edd4d58420a9242"
    }
   },
   "name": "python3"
  },
  "language_info": {
   "codemirror_mode": {
    "name": "ipython",
    "version": 3
   },
   "file_extension": ".py",
   "mimetype": "text/x-python",
   "name": "python",
   "nbconvert_exporter": "python",
   "pygments_lexer": "ipython3",
   "version": "3.9.2"
  },
  "orig_nbformat": 2
 },
 "nbformat": 4,
 "nbformat_minor": 2
}